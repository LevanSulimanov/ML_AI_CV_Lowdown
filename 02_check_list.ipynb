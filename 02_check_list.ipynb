{
  "nbformat": 4,
  "nbformat_minor": 0,
  "metadata": {
    "colab": {
      "provenance": []
    },
    "kernelspec": {
      "name": "python3",
      "display_name": "Python 3"
    },
    "language_info": {
      "name": "python"
    }
  },
  "cells": [
    {
      "cell_type": "markdown",
      "source": [
        "# Computer Vision | Machine Learning | AI Checklist:"
      ],
      "metadata": {
        "id": "tS7YB-cnkIFE"
      }
    },
    {
      "cell_type": "markdown",
      "source": [
        "### People that don't **** around and actually teach:\n",
        "* Patrick Loeber (best hands-on deep learning coding) - https://www.youtube.com/@patloeber\n",
        "* Andrew Ng (founder of DeepLearningAI, so-called father of AI) - https://www.youtube.com/@Deeplearningai\n",
        "* 3Blue1Brown (best visualizations to understand concepts) - https://www.youtube.com/@3blue1brown\n",
        "* Andrej Karpathy (Russian Hardcore) - https://www.youtube.com/@AndrejKarpathy"
      ],
      "metadata": {
        "id": "Lgqh6xz1lcsQ"
      }
    },
    {
      "cell_type": "markdown",
      "source": [
        "### 1. Linear Algebra - best free course doable in a month (imho) [by DeepLearningAI - Andrew Ng sponsored]:\n",
        "* https://www.coursera.org/learn/machine-learning-linear-algebra"
      ],
      "metadata": {
        "id": "_QUUOcc7kntS"
      }
    },
    {
      "cell_type": "markdown",
      "source": [
        "### 2. Convolutional Neural Networks / Smooth Deep Learning Intro:\n",
        "* https://www.youtube.com/watch?v=ArPaAX_PhIs&list=PLkDaE6sCZn6Gl29AoE31iwdVwSG-KnDzF&ab_channel=DeepLearningAI"
      ],
      "metadata": {
        "id": "7jlT0dk3lRZx"
      }
    },
    {
      "cell_type": "markdown",
      "source": [
        "### 3. Practical Deep Learning:\n",
        "* https://www.youtube.com/watch?v=ArPaAX_PhIs&list=PLkDaE6sCZn6Gl29AoE31iwdVwSG-KnDzF&ab_channel=DeepLearningAI\n",
        "\n",
        "### Highly suggested to watch these videos (coding regression from sratch - in order to know how gradients are computed - SUPER IMPORTANT FOR PYTORCH and DEEP LEARNING):\n",
        "* Linear Regression: https://www.youtube.com/watch?v=4swNt7PiamQ&ab_channel=PatrickLoeber\n",
        "* Logistic Regression from Scratch: https://www.youtube.com/watch?v=JDU3AzH3WKg&ab_channel=PatrickLoeber"
      ],
      "metadata": {
        "id": "8hC3hEKAl11P"
      }
    },
    {
      "cell_type": "markdown",
      "source": [
        "### 4. HuggingFace - The Klondike of ML Pre-Trained Models - YOUR BEST FRIENDS in Deep Learning!\n",
        "* Models: https://huggingface.co/models\n",
        "* Using Pre-Trained Models (tutorial): https://huggingface.co/learn/nlp-course/en/chapter4/2"
      ],
      "metadata": {
        "id": "jV9gvlAGno-U"
      }
    },
    {
      "cell_type": "markdown",
      "source": [
        "### 5. Papers With Code (cuz c'mon! If one publishes research paper - one must provide juicy code along with it!):\n",
        "* https://paperswithcode.com/"
      ],
      "metadata": {
        "id": "yOeBA8ewxHDG"
      }
    }
  ]
}